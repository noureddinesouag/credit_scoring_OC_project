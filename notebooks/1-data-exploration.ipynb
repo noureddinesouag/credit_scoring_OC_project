{
 "cells": [
  {
   "cell_type": "code",
   "execution_count": 1,
   "id": "b6bbdbd0",
   "metadata": {},
   "outputs": [],
   "source": [
    "import pandas as pd"
   ]
  },
  {
   "cell_type": "code",
   "execution_count": 2,
   "id": "5fa6cf7a",
   "metadata": {},
   "outputs": [],
   "source": [
    "df1=pd.read_pickle('../data/features/train_selected.pkl')"
   ]
  },
  {
   "cell_type": "code",
   "execution_count": 10,
   "id": "e919736f",
   "metadata": {},
   "outputs": [],
   "source": [
    "\n",
    "pd.set_option('display.max_rows', 500)"
   ]
  },
  {
   "cell_type": "code",
   "execution_count": 18,
   "id": "0e07642d",
   "metadata": {},
   "outputs": [
    {
     "name": "stdout",
     "output_type": "stream",
     "text": [
      "train columns list ['EXT_SOURCE_2', 'EXT_SOURCE_3', 'EXT_SOURCE_1', 'BUREAU_DEBT_CREDIT_RATIO_MAX', 'CREDIT_GOODS_RATIO', 'DAYS_BIRTH', 'INS_INS_IS_LATE_MEAN_MEAN', 'AMT_ANNUITY', 'CODE_GENDER_F', 'DAYS_EMPLOYED', 'PREV_NAME_CONTRACT_STATUS_MEAN', 'CC_CC_BALANCE_TO_LIMIT_RATIO_MEAN_MEAN', 'BUREAU_DAYS_CREDIT_MEAN', 'NAME_EDUCATION_TYPE_Higher education', 'PREV_CREDIT_TO_GOODS_RATIO_MAX', 'AMT_CREDIT', 'BUREAU_AMT_CREDIT_SUM_SUM', 'INS_INS_AMT_INSTALMENT_MIN_MAX', 'INS_INS_AMT_INSTALMENT_SUM_MAX', 'POS_POS_INSTALMENT_FUTURE_RATIO_MEAN_MEAN', 'DAYS_ID_PUBLISH', 'POS_POS_CNT_INSTALMENT_FUTURE_MIN_MEAN', 'PREV_CNT_PAYMENT_MEAN', 'POS_POS_CNT_INSTALMENT_MAX_MEAN', 'BUREAU_AMT_CREDIT_MAX_OVERDUE_MEAN', 'CC_CC_BALANCE_TO_LIMIT_RATIO_MAX_MEAN', 'BUREAU_RECENT_DAYS_CREDIT', 'NAME_INCOME_TYPE_Working', 'INS_INS_DAYS_LATE_MAX_MEAN', 'PREV_AMT_DOWN_PAYMENT_MEAN', 'CC_CC_AMT_DRAWINGS_CURRENT_MEAN_MEAN', 'INS_INS_DAYS_INSTALMENT_MAX_MAX', 'BUREAU_RECENT_AMT_CREDIT_SUM', 'BUREAU_DEBT_CREDIT_RATIO_MEAN', 'INS_INS_PAYMENT_DIFF_MAX_MEAN', 'INS_INS_AMT_INSTALMENT_MIN_MEAN', 'FLAG_OWN_CAR_N', 'OWN_CAR_AGE', 'POS_POS_CNT_INSTALMENT_FUTURE_MIN_MAX', 'DAYS_LAST_PHONE_CHANGE', 'NAME_FAMILY_STATUS_Married', 'PREV_DAYS_DECISION_MEAN', 'POS_POS_MONTHS_BALANCE_MAX_MAX', 'BUREAU_AMT_CREDIT_SUM_OVERDUE_MEAN', 'POS_POS_SK_DPD_DEF_MAX_MEAN', 'FLAG_DOCUMENT_3', 'BUREAU_AMT_CREDIT_SUM_MEAN', 'BUREAU_CREDIT_ACTIVE_MEAN', 'REGION_RATING_CLIENT', 'PREV_AMT_ANNUITY_SUM', 'BUREAU_AMT_CREDIT_SUM_MAX', 'PREV_NAME_YIELD_GROUP_MEAN', 'INCOME_CREDIT_RATIO', 'PREV_PRODUCT_COMBINATION_MEAN', 'INS_INS_DAYS_LATE_MEAN_MEAN', 'NAME_EDUCATION_TYPE_Secondary / secondary special', 'POS_POS_SK_DPD_DEF_MEAN_MEAN', 'POS_POS_MONTHS_BALANCE_MIN_MEAN', 'INS_INS_PAYMENT_DIFF_SUM_MEAN', 'INS_INS_AMT_INSTALMENT_SUM_MEAN', 'DEF_30_CNT_SOCIAL_CIRCLE', 'INS_INS_AMT_INSTALMENT_MAX_MEAN', 'INS_INS_PAYMENT_DIFF_MEAN_MEAN', 'POS_POS_CNT_INSTALMENT_MAX_MAX', 'INS_INS_PAYMENT_RATIO_MEAN_MAX', 'CC_CC_MONTHS_BALANCE_MIN_MEAN', 'PREV_HOUR_APPR_PROCESS_START_MEAN', 'INS_INS_NUM_INSTALMENT_NUMBER_MAX_MEAN', 'BUREAU_DAYS_CREDIT_UPDATE_MEAN', 'INS_INS_AMT_INSTALMENT_MAX_MAX', 'POS_POS_MONTHS_BALANCE_SIZE_MAX', 'PREV_NAME_CLIENT_TYPE_MEAN', 'PREV_AMT_ANNUITY_MIN', 'DAYS_REGISTRATION', 'DEF_60_CNT_SOCIAL_CIRCLE', 'INS_INS_PAYMENT_RATIO_MEAN_MEAN', 'INS_INS_PAYMENT_DIFF_MAX_MAX', 'PREV_CODE_REJECT_REASON_MEAN', 'BUREAU_AMT_CREDIT_SUM_DEBT_MEAN', 'FLAG_WORK_PHONE', 'FLOORSMAX_AVG', 'AMT_INCOME_TOTAL', 'INS_INS_NUM_INSTALMENT_NUMBER_MEAN_MAX', 'PREV_CREDIT_TO_GOODS_RATIO_MEAN', 'CC_CC_AMT_BALANCE_MEAN_MEAN', 'CC_CC_AMT_BALANCE_MAX_MEAN', 'BUREAU_DAYS_CREDIT_ENDDATE_MEAN', 'BUREAU_LOAN_COUNT', 'PREV_NAME_TYPE_SUITE_MEAN', 'INS_INS_PAYMENT_RATIO_MIN_MEAN', 'PREV_NAME_GOODS_CATEGORY_MEAN', 'WALLSMATERIAL_MODE_Panel', 'REG_CITY_NOT_LIVE_CITY', 'PREV_SELLERPLACE_AREA_MEAN', 'BUREAU_AMT_CREDIT_SUM_MIN', 'BUREAU_RECENT_AMT_CREDIT_SUM_DEBT', 'POS_POS_MONTHS_BALANCE_SIZE_MEAN', 'PREV_CREDIT_TO_GOODS_RATIO_MIN', 'PREV_CREDIT_TO_ANNUITY_RATIO_MAX', 'PREV_AMT_CREDIT_SUM', 'TARGET']\n"
     ]
    }
   ],
   "source": [
    "listofcolumns=[]\n",
    "for i in df1.columns:\n",
    "    listofcolumns.append(i)\n",
    "print(\"train columns list\",listofcolumns)"
   ]
  },
  {
   "cell_type": "code",
   "execution_count": 3,
   "id": "5cc971c1",
   "metadata": {},
   "outputs": [],
   "source": [
    "df=pd.read_pickle('../data/features/test_selected.pkl')"
   ]
  },
  {
   "cell_type": "code",
   "execution_count": 4,
   "id": "9b62bb85",
   "metadata": {},
   "outputs": [
    {
     "data": {
      "text/plain": [
       "Index(['EXT_SOURCE_2', 'EXT_SOURCE_3', 'EXT_SOURCE_1',\n",
       "       'BUREAU_DEBT_CREDIT_RATIO_MAX', 'CREDIT_GOODS_RATIO', 'DAYS_BIRTH',\n",
       "       'INS_INS_IS_LATE_MEAN_MEAN', 'AMT_ANNUITY', 'CODE_GENDER_F',\n",
       "       'DAYS_EMPLOYED',\n",
       "       ...\n",
       "       'PREV_NAME_GOODS_CATEGORY_MEAN', 'ORGANIZATION_TYPE_Self-employed',\n",
       "       'REG_CITY_NOT_LIVE_CITY', 'INS_INS_PAYMENT_RATIO_MIN_MAX',\n",
       "       'CC_CC_AMT_BALANCE_MEAN_MEAN',\n",
       "       'INS_INS_NUM_INSTALMENT_VERSION_NUNIQUE_MEAN',\n",
       "       'INS_INS_PAYMENT_RATIO_MIN_MEAN', 'BUREAU_DAYS_CREDIT_ENDDATE_MEAN',\n",
       "       'PREV_CREDIT_TO_ANNUITY_RATIO_MAX', 'SK_ID_CURR'],\n",
       "      dtype='object', length=101)"
      ]
     },
     "execution_count": 4,
     "metadata": {},
     "output_type": "execute_result"
    }
   ],
   "source": [
    "df.columns"
   ]
  },
  {
   "cell_type": "code",
   "execution_count": 22,
   "id": "423de5d8",
   "metadata": {},
   "outputs": [
    {
     "data": {
      "text/plain": [
       "array([False, False, False, False, False, False, False, False, False,\n",
       "       False, False, False, False, False, False, False, False, False,\n",
       "       False, False, False, False, False, False, False, False, False,\n",
       "       False, False, False, False, False, False, False, False, False,\n",
       "       False, False, False, False, False, False, False, False, False,\n",
       "       False, False, False, False, False, False, False, False, False,\n",
       "       False, False, False, False, False, False, False, False, False,\n",
       "       False, False, False, False, False, False, False, False, False,\n",
       "       False, False, False, False, False, False, False, False, False,\n",
       "       False, False, False, False, False, False, False, False, False,\n",
       "       False, False, False, False, False, False, False, False, False,\n",
       "       False])"
      ]
     },
     "execution_count": 22,
     "metadata": {},
     "output_type": "execute_result"
    }
   ],
   "source": [
    "listofcolumns.remove('TARGET')==df.columns"
   ]
  },
  {
   "cell_type": "code",
   "execution_count": null,
   "id": "938ae734",
   "metadata": {},
   "outputs": [],
   "source": []
  }
 ],
 "metadata": {
  "kernelspec": {
   "display_name": ".venv",
   "language": "python",
   "name": "python3"
  },
  "language_info": {
   "codemirror_mode": {
    "name": "ipython",
    "version": 3
   },
   "file_extension": ".py",
   "mimetype": "text/x-python",
   "name": "python",
   "nbconvert_exporter": "python",
   "pygments_lexer": "ipython3",
   "version": "3.13.2"
  }
 },
 "nbformat": 4,
 "nbformat_minor": 5
}
